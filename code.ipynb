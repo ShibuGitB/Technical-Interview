{
 "cells": [
  {
   "cell_type": "code",
   "execution_count": null,
   "id": "d0378576",
   "metadata": {},
   "outputs": [
    {
     "name": "stdout",
     "output_type": "stream",
     "text": [
      "'s' to mark start position, 'e' to mark end position\n"
     ]
    }
   ],
   "source": [
    "import cv2\n",
    "import mediapipe as mp\n",
    "\n",
    "mp_pose = mp.solutions.pose\n",
    "pose = mp_pose.Pose()\n",
    "mp_draw = mp.solutions.drawing_utils\n",
    "\n",
    "video = cv2.VideoCapture(r\"C:\\Documents 2\\MediaPipe Interview\\video.mp4\")\n",
    "\n",
    "start = 0\n",
    "end = 0\n",
    "PIXELS_TO_CM = 0.5  \n",
    "\n",
    "print(\"Click 's' to mark start position, 'e' to mark end position\")\n",
    "\n",
    "while True:\n",
    "    sucess, frame = video.read()\n",
    "    \n",
    "    if not sucess : \n",
    "        break\n",
    "    \n",
    "    rgb=cv2.cvtColor(frame, cv2.COLOR_BGR2RGB)\n",
    "    \n",
    "    results = pose.process(rgb)\n",
    "    \n",
    "    if results.pose_landmarks:\n",
    "        \n",
    "        mp_draw.draw_landmarks(frame, results.pose_landmarks, mp_pose.POSE_CONNECTIONS)\n",
    "        \n",
    "        landmarks = results.pose_landmarks.landmark\n",
    "        foot = landmarks[mp_pose.PoseLandmark.LEFT_ANKLE.value]\n",
    "        foot_x = int(foot.x * frame.shape[1])\n",
    "        foot_y = int(foot.y * frame.shape[0])\n",
    "        \n",
    "        cv2.circle(frame, (foot_x, foot_y), 10, (0, 255, 0), -1)\n",
    "        \n",
    "        key = cv2.waitKey(1) & 0xFF\n",
    "        if key == ord('s'):  \n",
    "            start = foot_x\n",
    "            print(f\"Start position: {start}\")\n",
    "        elif key == ord('e'):  \n",
    "            end = foot_x\n",
    "            if start:\n",
    "                jump_length_pixels = abs(end - start)\n",
    "                jump_length_cm = jump_length_pixels * PIXELS_TO_CM\n",
    "                print(f\"Jump length: {jump_length_cm:.1f} cm\")\n",
    "    \n",
    "    if start and end:\n",
    "        cv2.putText(frame, f\"Jump: {jump_length_cm:.1f} cm\", (10, 30), cv2.FONT_HERSHEY_SIMPLEX, 1, (255, 255, 255), 2)\n",
    "    \n",
    "    cv2.imshow('Jump Tracker', frame) \n",
    "    \n",
    "    key = cv2.waitKey(1) & 0xFF\n",
    "    if key==ord(\"q\") : \n",
    "        break\n",
    "\n",
    "video.release()\n",
    "cv2.destroyAllWindows()"
   ]
  }
 ],
 "metadata": {
  "kernelspec": {
   "display_name": "base",
   "language": "python",
   "name": "python3"
  },
  "language_info": {
   "codemirror_mode": {
    "name": "ipython",
    "version": 3
   },
   "file_extension": ".py",
   "mimetype": "text/x-python",
   "name": "python",
   "nbconvert_exporter": "python",
   "pygments_lexer": "ipython3",
   "version": "3.11.7"
  }
 },
 "nbformat": 4,
 "nbformat_minor": 5
}
